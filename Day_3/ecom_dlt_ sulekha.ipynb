{
 "cells": [
  {
   "cell_type": "code",
   "execution_count": 0,
   "metadata": {
    "application/vnd.databricks.v1+cell": {
     "cellMetadata": {
      "byteLimit": 2048000,
      "implicitDf": true,
      "rowLimit": 10000
     },
     "inputWidgets": {},
     "nuid": "c005e25c-0cee-4e5a-8e37-c6f0bdbcf90b",
     "showTitle": false,
     "tableResultSettingsMap": {},
     "title": ""
    }
   },
   "outputs": [],
   "source": [
    "CREATE OR REFRESH STREAMING TABLE sales_dlt\n",
    "AS SELECT *,current_timestamp() as ingestion_date FROM STREAM read_files(\n",
    "  \"/Volumes/dev/naval/sales/\",\n",
    "   format => \"csv\"\n",
    "   );"
   ]
  },
  {
   "cell_type": "code",
   "execution_count": 0,
   "metadata": {
    "application/vnd.databricks.v1+cell": {
     "cellMetadata": {},
     "inputWidgets": {},
     "nuid": "d81c4b2b-21e1-4baf-846f-a24fb68767a0",
     "showTitle": false,
     "tableResultSettingsMap": {},
     "title": ""
    }
   },
   "outputs": [],
   "source": [
    "CREATE OR REFRESH STREAMING TABLE customers_dlt\n",
    "AS SELECT *,current_timestamp() as ingestion_date FROM STREAM read_files(\n",
    "  \"/Volumes/dev/naval/customers/\",\n",
    "   format => \"csv\"\n",
    "   );"
   ]
  },
  {
   "cell_type": "code",
   "execution_count": 0,
   "metadata": {
    "application/vnd.databricks.v1+cell": {
     "cellMetadata": {},
     "inputWidgets": {},
     "nuid": "1664759c-d51b-4968-8799-19e19819f8ff",
     "showTitle": false,
     "tableResultSettingsMap": {},
     "title": ""
    }
   },
   "outputs": [],
   "source": [
    "-- Create and populate the target table.\n",
    "CREATE OR REFRESH STREAMING TABLE sulekha_silver.customer_silver_scd;\n",
    "\n",
    "APPLY CHANGES INTO\n",
    " sulekha_silver.customer_silver_scd\n",
    "FROM\n",
    "  stream(customers_dlt)\n",
    "KEYS\n",
    "  (customer_id)\n",
    "APPLY AS DELETE WHEN\n",
    "  operation = \"DELETE\"\n",
    "SEQUENCE BY\n",
    "  sequenceNum\n",
    "COLUMNS * EXCEPT\n",
    "  (operation, sequenceNum, ingestion_date)\n",
    "STORED AS\n",
    "  SCD TYPE 2;"
   ]
  },
  {
   "cell_type": "code",
   "execution_count": 0,
   "metadata": {
    "application/vnd.databricks.v1+cell": {
     "cellMetadata": {},
     "inputWidgets": {},
     "nuid": "625fbb56-7286-4bd1-9d39-2d615c9085e3",
     "showTitle": false,
     "tableResultSettingsMap": {},
     "title": ""
    }
   },
   "outputs": [],
   "source": [
    "CREATE OR REFRESH STREAMING TABLE products_dlt\n",
    "AS SELECT *,current_timestamp() as ingestion_date FROM STREAM read_files(\n",
    "  \"/Volumes/dev/naval/products/\",\n",
    "   format => \"csv\"\n",
    "   );"
   ]
  },
  {
   "cell_type": "code",
   "execution_count": 0,
   "metadata": {
    "application/vnd.databricks.v1+cell": {
     "cellMetadata": {},
     "inputWidgets": {},
     "nuid": "8eb86fbb-f000-444a-bd83-a357cbeb807e",
     "showTitle": false,
     "tableResultSettingsMap": {},
     "title": ""
    }
   },
   "outputs": [],
   "source": [
    "-- Create and populate the target table.\n",
    "CREATE OR REFRESH STREAMING TABLE sulekha_silver.products_dlt_scd1;\n",
    "\n",
    "APPLY CHANGES INTO\n",
    "  sulekha_silver.products_dlt_scd1\n",
    "FROM\n",
    "  stream(products_dlt)\n",
    "KEYS\n",
    "  (product_id)\n",
    "APPLY AS DELETE WHEN\n",
    "  operation = \"DELETE\"\n",
    "SEQUENCE BY\n",
    "  seqNum\n",
    "COLUMNS * EXCEPT\n",
    "  (operation, seqNum, ingestion_date)\n",
    "STORED AS\n",
    "  SCD TYPE 1;"
   ]
  },
  {
   "cell_type": "code",
   "execution_count": 0,
   "metadata": {
    "application/vnd.databricks.v1+cell": {
     "cellMetadata": {},
     "inputWidgets": {},
     "nuid": "6258253b-8e46-4ca5-b6f8-6da5c58696f1",
     "showTitle": false,
     "tableResultSettingsMap": {},
     "title": ""
    }
   },
   "outputs": [],
   "source": [
    "create or refresh streaming table sulekha_silver.sales_dlt_clean \n",
    "(CONSTRAINT valid_order_id EXPECT (order_id IS NOT NULL) ON VIOLATION DROP ROW)\n",
    "as select distinct * except(_rescued_data,ingestion_date ) from stream(sales_dlt)"
   ]
  },
  {
   "cell_type": "code",
   "execution_count": 0,
   "metadata": {
    "application/vnd.databricks.v1+cell": {
     "cellMetadata": {},
     "inputWidgets": {},
     "nuid": "995ab459-77fc-4d41-bc5d-e70af9baf1f3",
     "showTitle": false,
     "tableResultSettingsMap": {},
     "title": ""
    }
   },
   "outputs": [],
   "source": [
    "create or refresh materialized view sulekha_gold.customers_active as \n",
    "select * from sulekha_silver.customer_silver_scd where `__END_AT` is null"
   ]
  },
  {
   "cell_type": "code",
   "execution_count": 0,
   "metadata": {
    "application/vnd.databricks.v1+cell": {
     "cellMetadata": {},
     "inputWidgets": {},
     "nuid": "8d83cd55-0014-4b77-af56-53520fdda9c2",
     "showTitle": false,
     "tableResultSettingsMap": {},
     "title": ""
    }
   },
   "outputs": [],
   "source": [
    "create or refresh materialized view sulekha_gold.summary as \n",
    "(SELECT \n",
    "    sales.order_id,\n",
    "    sales.customer_id,\n",
    "    sales.transaction_id,\n",
    "    sales.product_id,\n",
    "    sales.quantity,\n",
    "    sales.discount_amount,\n",
    "    sales.total_amount,\n",
    "    sales.order_date,\n",
    "    products.product_name,\n",
    "    products.product_category,\n",
    "    products.product_price,\n",
    "    customers.customer_name,\n",
    "    customers.customer_email\n",
    "FROM \n",
    "    sulekha_silver.sales_dlt_clean AS sales\n",
    "JOIN \n",
    "    sulekha_silver.products_dlt_scd1 AS products\n",
    "ON \n",
    "    sales.product_id = products.product_id\n",
    "JOIN \n",
    "    sulekha_gold.customers_active AS customers\n",
    "ON \n",
    "    sales.customer_id = customers.customer_id)"
   ]
  }
 ],
 "metadata": {
  "application/vnd.databricks.v1+notebook": {
   "computePreferences": null,
   "dashboards": [],
   "environmentMetadata": {
    "base_environment": "",
    "environment_version": "2"
   },
   "inputWidgetPreferences": null,
   "language": "sql",
   "notebookMetadata": {
    "mostRecentlyExecutedCommandWithImplicitDF": {
     "commandId": -1,
     "dataframes": [
      "_sqldf"
     ]
    },
    "pythonIndentUnit": 4
   },
   "notebookName": "ecom_dlt_ sulekha",
   "widgets": {}
  },
  "language_info": {
   "name": "sql"
  }
 },
 "nbformat": 4,
 "nbformat_minor": 0
}

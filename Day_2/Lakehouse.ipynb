{
 "cells": [
  {
   "cell_type": "markdown",
   "metadata": {
    "application/vnd.databricks.v1+cell": {
     "cellMetadata": {},
     "inputWidgets": {},
     "nuid": "7ea1a446-681c-443a-918e-e0c82fa04d2a",
     "showTitle": false,
     "tableResultSettingsMap": {},
     "title": ""
    }
   },
   "source": [
    "Lakehouse =. DataLake + data Warehouse\n",
    "\n",
    "Lakehouse brings best from both world\n",
    "(can store semi structured or structure, schema on-read, supports ACID transaction, doesnt corrupt the system)\n",
    "\n",
    "Lakehouse--> \n",
    "sitting on top of existing Data Lake, (saving it to delta format, iceberg format in S3 )\n",
    "--> files saved in S3 -- Data Lake\n",
    "--> files saved in S3 but with delta format -- Lakehouse (Delta Lake)\n",
    "\n",
    "--> Lakehouse is not a framework, Its a concept\n",
    "\n",
    "--> "
   ]
  },
  {
   "cell_type": "markdown",
   "metadata": {
    "application/vnd.databricks.v1+cell": {
     "cellMetadata": {},
     "inputWidgets": {},
     "nuid": "f4937367-b0a2-4844-8685-96484fecfd3d",
     "showTitle": false,
     "tableResultSettingsMap": {},
     "title": ""
    }
   },
   "source": [
    "Medallion Architecture / Multihop architecture\n",
    "\n",
    "1. Ingestion Table(Bronze)\n",
    "2. Refined Tables(Silver)\n",
    "3. Feature/ Agg Data Store (Gold\n",
    ")\n",
    "\n"
   ]
  },
  {
   "cell_type": "code",
   "execution_count": 0,
   "metadata": {
    "application/vnd.databricks.v1+cell": {
     "cellMetadata": {},
     "inputWidgets": {},
     "nuid": "472d03e6-6975-4a7b-8126-e229f6518ac7",
     "showTitle": false,
     "tableResultSettingsMap": {},
     "title": ""
    }
   },
   "outputs": [],
   "source": [
    "first generation platform --> Data LAke and ETL and Data Warehouse --> end Users\n",
    "\n",
    "Second Generation Platform --> Data Lake and ETL and warehouse --> fro BI and reports\n",
    "but data scientist can read from Data Lake directly\n",
    "\n",
    "Lakehouse Platforms --> Delta Lake(Lakehouse) --> no need of Data warehouse \n",
    "user can directly query from Lakehouse since its is delta format and supports ACID transactions"
   ]
  }
 ],
 "metadata": {
  "application/vnd.databricks.v1+notebook": {
   "computePreferences": null,
   "dashboards": [],
   "environmentMetadata": {
    "base_environment": "",
    "environment_version": "2"
   },
   "inputWidgetPreferences": null,
   "language": "python",
   "notebookMetadata": {
    "pythonIndentUnit": 4
   },
   "notebookName": "Lakehouse",
   "widgets": {}
  },
  "language_info": {
   "name": "python"
  }
 },
 "nbformat": 4,
 "nbformat_minor": 0
}

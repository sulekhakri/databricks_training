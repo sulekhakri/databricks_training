{
 "cells": [
  {
   "cell_type": "code",
   "execution_count": 0,
   "metadata": {
    "application/vnd.databricks.v1+cell": {
     "cellMetadata": {
      "byteLimit": 2048000,
      "implicitDf": true,
      "rowLimit": 10000
     },
     "inputWidgets": {},
     "nuid": "f614db60-25fd-4f1b-9f50-d0f8c0a8d661",
     "showTitle": false,
     "tableResultSettingsMap": {},
     "title": ""
    }
   },
   "outputs": [],
   "source": [
    "%sql\n",
    "create or replace view dev.sulekha_gold.trans_customer_info as \n",
    "(SELECT t.transaction_id, t.amount, t.transaction_type, t.timestamp,\n",
    "       c.name AS customer_name, c.email, a.account_type, a.account_balance\n",
    "FROM dev.sulekha_silver.transaction t\n",
    "LEFT JOIN dev.sulekha_silver.customer_profile c ON t.customer_id = c.customer_id\n",
    "LEFT JOIN dev.sulekha_silver.account_info a ON t.customer_id = a.customer_id)"
   ]
  },
  {
   "cell_type": "code",
   "execution_count": 0,
   "metadata": {
    "application/vnd.databricks.v1+cell": {
     "cellMetadata": {},
     "inputWidgets": {},
     "nuid": "83206415-1660-49ac-aa41-165081502f9f",
     "showTitle": false,
     "tableResultSettingsMap": {},
     "title": ""
    }
   },
   "outputs": [],
   "source": [
    "%sql\n",
    "create or replace view dev.sulekha_gold.total_amount_per_customer as \n",
    "(SELECT customer_id, SUM(amount) as total_amount, COUNT(*) as txn_count\n",
    "FROM dev.sulekha_silver.transaction\n",
    "GROUP BY customer_id)"
   ]
  }
 ],
 "metadata": {
  "application/vnd.databricks.v1+notebook": {
   "computePreferences": null,
   "dashboards": [],
   "environmentMetadata": {
    "base_environment": "",
    "environment_version": "2"
   },
   "inputWidgetPreferences": null,
   "language": "python",
   "notebookMetadata": {
    "mostRecentlyExecutedCommandWithImplicitDF": {
     "commandId": 8552167711994140,
     "dataframes": [
      "_sqldf"
     ]
    },
    "pythonIndentUnit": 4
   },
   "notebookName": "Gold Managed sql",
   "widgets": {}
  },
  "language_info": {
   "name": "python"
  }
 },
 "nbformat": 4,
 "nbformat_minor": 0
}

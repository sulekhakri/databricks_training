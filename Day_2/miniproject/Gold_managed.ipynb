{
 "cells": [
  {
   "cell_type": "code",
   "execution_count": 0,
   "metadata": {
    "application/vnd.databricks.v1+cell": {
     "cellMetadata": {
      "byteLimit": 2048000,
      "rowLimit": 10000
     },
     "inputWidgets": {},
     "nuid": "251ece6f-81ad-4654-99de-4540c1caca88",
     "showTitle": false,
     "tableResultSettingsMap": {},
     "title": ""
    }
   },
   "outputs": [],
   "source": [
    "dbutils.widgets.help()\n",
    "dbutils.widgets.text(\"catalog\",\"dev\")\n",
    "dbutils.widgets.text(\"gold_schema\",\"sulekha_gold\")\n",
    "dbutils.widgets.text(\"silver_schema\",\"sulekha_silver\")\n",
    "dbutils.widgets.text(\"gold_table\",\"transaction_gold\")\n",
    "dbutils.widgets.text(\"input_table1\",\"transactions\")\n",
    "dbutils.widgets.text(\"input_table2\",\"customer_profile\")\n"
   ]
  },
  {
   "cell_type": "code",
   "execution_count": 0,
   "metadata": {
    "application/vnd.databricks.v1+cell": {
     "cellMetadata": {
      "byteLimit": 2048000,
      "rowLimit": 10000
     },
     "inputWidgets": {},
     "nuid": "2559e8fa-af51-4344-bfca-c0639f799dd2",
     "showTitle": false,
     "tableResultSettingsMap": {},
     "title": ""
    }
   },
   "outputs": [],
   "source": [
    "catalog=dbutils.widgets.get(\"catalog\")\n",
    "gold_schema=dbutils.widgets.get(\"gold_schema\")\n",
    "silver_schema=dbutils.widgets.get(\"silver_schema\")\n",
    "gold_table=dbutils.widgets.get(\"gold_table\")\n",
    "input_table1=dbutils.widgets.get(\"input_table1\")\n",
    "input_table2=dbutils.widgets.get(\"input_table2\")"
   ]
  },
  {
   "cell_type": "code",
   "execution_count": 0,
   "metadata": {
    "application/vnd.databricks.v1+cell": {
     "cellMetadata": {
      "byteLimit": 2048000,
      "rowLimit": 10000
     },
     "inputWidgets": {},
     "nuid": "781bb6bd-387a-469b-9e4f-90f4ac0b36eb",
     "showTitle": false,
     "tableResultSettingsMap": {},
     "title": ""
    }
   },
   "outputs": [],
   "source": [
    "df_table1 = spark.read.table(f\"{catalog}.{silver_schema}.{input_table1}\")"
   ]
  },
  {
   "cell_type": "code",
   "execution_count": 0,
   "metadata": {
    "application/vnd.databricks.v1+cell": {
     "cellMetadata": {
      "byteLimit": 2048000,
      "rowLimit": 10000
     },
     "inputWidgets": {},
     "nuid": "a81da9d5-b265-442b-9409-460cfcc752df",
     "showTitle": false,
     "tableResultSettingsMap": {},
     "title": ""
    }
   },
   "outputs": [],
   "source": [
    "df_table2 = spark.read.table(f\"{catalog}.{silver_schema}.{input_table2}\")"
   ]
  },
  {
   "cell_type": "code",
   "execution_count": 0,
   "metadata": {
    "application/vnd.databricks.v1+cell": {
     "cellMetadata": {
      "byteLimit": 2048000,
      "rowLimit": 10000
     },
     "inputWidgets": {},
     "nuid": "5e2da82c-cd72-4980-978f-cea7aaa4825a",
     "showTitle": false,
     "tableResultSettingsMap": {},
     "title": ""
    }
   },
   "outputs": [],
   "source": [
    "df_gold = df_table1.join(df_table2, on='customer_id', how='inner')"
   ]
  },
  {
   "cell_type": "code",
   "execution_count": 0,
   "metadata": {
    "application/vnd.databricks.v1+cell": {
     "cellMetadata": {
      "byteLimit": 2048000,
      "rowLimit": 10000
     },
     "inputWidgets": {},
     "nuid": "ce246990-2c7a-449f-8202-e0adf7d80d65",
     "showTitle": false,
     "tableResultSettingsMap": {},
     "title": ""
    }
   },
   "outputs": [],
   "source": [
    "df_gold.write.mode(\"overwrite\").saveAsTable(f\"{catalog}.{gold_schema}.{gold_table}\")"
   ]
  }
 ],
 "metadata": {
  "application/vnd.databricks.v1+notebook": {
   "computePreferences": null,
   "dashboards": [],
   "environmentMetadata": {
    "base_environment": "",
    "environment_version": "2"
   },
   "inputWidgetPreferences": null,
   "language": "python",
   "notebookMetadata": {
    "pythonIndentUnit": 4
   },
   "notebookName": "Gold_managed",
   "widgets": {
    "catalog": {
     "currentValue": "dev",
     "nuid": "e4350270-cb9f-4093-8e7d-2e21667be24d",
     "typedWidgetInfo": {
      "autoCreated": false,
      "defaultValue": "dev",
      "label": null,
      "name": "catalog",
      "options": {
       "widgetDisplayType": "Text",
       "validationRegex": null
      },
      "parameterDataType": "String"
     },
     "widgetInfo": {
      "widgetType": "text",
      "defaultValue": "dev",
      "label": null,
      "name": "catalog",
      "options": {
       "widgetType": "text",
       "autoCreated": null,
       "validationRegex": null
      }
     }
    },
    "gold_schema": {
     "currentValue": "sulekha_gold",
     "nuid": "c53e8ce6-a897-4ae2-b698-7cb3787d334a",
     "typedWidgetInfo": {
      "autoCreated": false,
      "defaultValue": "sulekha_gold",
      "label": null,
      "name": "gold_schema",
      "options": {
       "widgetDisplayType": "Text",
       "validationRegex": null
      },
      "parameterDataType": "String"
     },
     "widgetInfo": {
      "widgetType": "text",
      "defaultValue": "sulekha_gold",
      "label": null,
      "name": "gold_schema",
      "options": {
       "widgetType": "text",
       "autoCreated": null,
       "validationRegex": null
      }
     }
    },
    "gold_table": {
     "currentValue": "transaction_gold",
     "nuid": "6f4b6918-c258-422b-b687-c27f7947973b",
     "typedWidgetInfo": {
      "autoCreated": false,
      "defaultValue": "transaction_gold",
      "label": null,
      "name": "gold_table",
      "options": {
       "widgetDisplayType": "Text",
       "validationRegex": null
      },
      "parameterDataType": "String"
     },
     "widgetInfo": {
      "widgetType": "text",
      "defaultValue": "transaction_gold",
      "label": null,
      "name": "gold_table",
      "options": {
       "widgetType": "text",
       "autoCreated": null,
       "validationRegex": null
      }
     }
    },
    "input_table1": {
     "currentValue": "transaction",
     "nuid": "e34f7385-0c27-4a18-bf47-62c5903b900b",
     "typedWidgetInfo": {
      "autoCreated": false,
      "defaultValue": "transactions",
      "label": null,
      "name": "input_table1",
      "options": {
       "widgetDisplayType": "Text",
       "validationRegex": null
      },
      "parameterDataType": "String"
     },
     "widgetInfo": {
      "widgetType": "text",
      "defaultValue": "transactions",
      "label": null,
      "name": "input_table1",
      "options": {
       "widgetType": "text",
       "autoCreated": null,
       "validationRegex": null
      }
     }
    },
    "input_table2": {
     "currentValue": "account_info",
     "nuid": "e996ac37-6083-4e01-8f82-38406f48325d",
     "typedWidgetInfo": {
      "autoCreated": false,
      "defaultValue": "customer_profile",
      "label": null,
      "name": "input_table2",
      "options": {
       "widgetDisplayType": "Text",
       "validationRegex": null
      },
      "parameterDataType": "String"
     },
     "widgetInfo": {
      "widgetType": "text",
      "defaultValue": "customer_profile",
      "label": null,
      "name": "input_table2",
      "options": {
       "widgetType": "text",
       "autoCreated": null,
       "validationRegex": null
      }
     }
    },
    "silver_schema": {
     "currentValue": "sulekha_silver",
     "nuid": "d3db2dbe-0050-45db-ab48-ad009c60491e",
     "typedWidgetInfo": {
      "autoCreated": false,
      "defaultValue": "sulekha_silver",
      "label": null,
      "name": "silver_schema",
      "options": {
       "widgetDisplayType": "Text",
       "validationRegex": null
      },
      "parameterDataType": "String"
     },
     "widgetInfo": {
      "widgetType": "text",
      "defaultValue": "sulekha_silver",
      "label": null,
      "name": "silver_schema",
      "options": {
       "widgetType": "text",
       "autoCreated": null,
       "validationRegex": null
      }
     }
    }
   }
  },
  "language_info": {
   "name": "python"
  }
 },
 "nbformat": 4,
 "nbformat_minor": 0
}

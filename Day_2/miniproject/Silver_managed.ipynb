{
 "cells": [
  {
   "cell_type": "code",
   "execution_count": 0,
   "metadata": {
    "application/vnd.databricks.v1+cell": {
     "cellMetadata": {
      "byteLimit": 2048000,
      "implicitDf": true,
      "rowLimit": 10000
     },
     "inputWidgets": {},
     "nuid": "c5dfb282-73c3-4d33-8d17-5827c1cdce48",
     "showTitle": false,
     "tableResultSettingsMap": {},
     "title": ""
    }
   },
   "outputs": [],
   "source": [
    "%sql\n",
    "use catalog dev;\n"
   ]
  },
  {
   "cell_type": "code",
   "execution_count": 0,
   "metadata": {
    "application/vnd.databricks.v1+cell": {
     "cellMetadata": {
      "byteLimit": 2048000,
      "rowLimit": 10000
     },
     "inputWidgets": {},
     "nuid": "79a030bd-7cef-4d2c-9f3e-206462e407e6",
     "showTitle": false,
     "tableResultSettingsMap": {},
     "title": ""
    }
   },
   "outputs": [],
   "source": [
    "dbutils.widgets.help()\n",
    "dbutils.widgets.text(\"catalog\",\"dev\")\n",
    "dbutils.widgets.text(\"bronze_schema\",\"sulekha_bronze\")\n",
    "dbutils.widgets.text(\"silver_schema\",\"sulekha_silver\")\n",
    "dbutils.widgets.text(\"table\",\"transaction\")\n",
    "dbutils.widgets.text(\"input_table\",\"transactions_raw\")\n",
    "catalog=dbutils.widgets.get(\"catalog\")\n",
    "bronze_schema=dbutils.widgets.get(\"bronze_schema\")\n",
    "silver_schema=dbutils.widgets.get(\"silver_schema\")\n",
    "table_name=dbutils.widgets.get(\"table\")\n",
    "input_table=dbutils.widgets.get(\"input_table\")"
   ]
  },
  {
   "cell_type": "code",
   "execution_count": 0,
   "metadata": {
    "application/vnd.databricks.v1+cell": {
     "cellMetadata": {
      "byteLimit": 2048000,
      "rowLimit": 10000
     },
     "inputWidgets": {},
     "nuid": "f231cd22-b2d6-4098-9b2b-84bd513aff07",
     "showTitle": false,
     "tableResultSettingsMap": {},
     "title": ""
    }
   },
   "outputs": [],
   "source": [
    "%python\n",
    "df=spark.table(f\"{catalog}.{bronze_schema}.{input_table}\")\n",
    "dffinal=df.dropDuplicates().drop(\"ingestion_date\")\n",
    "\n"
   ]
  },
  {
   "cell_type": "code",
   "execution_count": 0,
   "metadata": {
    "application/vnd.databricks.v1+cell": {
     "cellMetadata": {
      "byteLimit": 2048000,
      "rowLimit": 10000
     },
     "inputWidgets": {},
     "nuid": "34a4a073-8279-4017-8a1a-50f0f61c6e64",
     "showTitle": false,
     "tableResultSettingsMap": {},
     "title": ""
    }
   },
   "outputs": [],
   "source": [
    "dffinal.write.mode(\"overwrite\").saveAsTable(f\"{catalog}.{silver_schema}.{table_name}\")"
   ]
  }
 ],
 "metadata": {
  "application/vnd.databricks.v1+notebook": {
   "computePreferences": null,
   "dashboards": [],
   "environmentMetadata": {
    "base_environment": "",
    "environment_version": "2"
   },
   "inputWidgetPreferences": null,
   "language": "python",
   "notebookMetadata": {
    "mostRecentlyExecutedCommandWithImplicitDF": {
     "commandId": 8552167711994051,
     "dataframes": [
      "_sqldf"
     ]
    },
    "pythonIndentUnit": 4
   },
   "notebookName": "Silver_managed",
   "widgets": {
    "bronze_schema": {
     "currentValue": "sulekha_bronze",
     "nuid": "a4c79c6c-e3bf-448c-8d83-b8cd5d1a4628",
     "typedWidgetInfo": {
      "autoCreated": false,
      "defaultValue": "sulekha_bronze",
      "label": null,
      "name": "bronze_schema",
      "options": {
       "widgetDisplayType": "Text",
       "validationRegex": null
      },
      "parameterDataType": "String"
     },
     "widgetInfo": {
      "widgetType": "text",
      "defaultValue": "sulekha_bronze",
      "label": null,
      "name": "bronze_schema",
      "options": {
       "widgetType": "text",
       "autoCreated": null,
       "validationRegex": null
      }
     }
    },
    "catalog": {
     "currentValue": "dev",
     "nuid": "eee46ecf-2e34-452f-867e-02d5fdc011b3",
     "typedWidgetInfo": {
      "autoCreated": false,
      "defaultValue": "dev",
      "label": null,
      "name": "catalog",
      "options": {
       "widgetDisplayType": "Text",
       "validationRegex": null
      },
      "parameterDataType": "String"
     },
     "widgetInfo": {
      "widgetType": "text",
      "defaultValue": "dev",
      "label": null,
      "name": "catalog",
      "options": {
       "widgetType": "text",
       "autoCreated": null,
       "validationRegex": null
      }
     }
    },
    "input_table": {
     "currentValue": "customer_prfile_raw",
     "nuid": "46b05d1a-5bf0-47d8-8534-7231ec37e68a",
     "typedWidgetInfo": {
      "autoCreated": false,
      "defaultValue": "transactions_raw",
      "label": null,
      "name": "input_table",
      "options": {
       "widgetDisplayType": "Text",
       "validationRegex": null
      },
      "parameterDataType": "String"
     },
     "widgetInfo": {
      "widgetType": "text",
      "defaultValue": "transactions_raw",
      "label": null,
      "name": "input_table",
      "options": {
       "widgetType": "text",
       "autoCreated": null,
       "validationRegex": null
      }
     }
    },
    "silver_schema": {
     "currentValue": "sulekha_silver",
     "nuid": "8eb9d851-9123-4bd2-b77c-25c15c67b6ea",
     "typedWidgetInfo": {
      "autoCreated": false,
      "defaultValue": "sulekha_silver",
      "label": null,
      "name": "silver_schema",
      "options": {
       "widgetDisplayType": "Text",
       "validationRegex": null
      },
      "parameterDataType": "String"
     },
     "widgetInfo": {
      "widgetType": "text",
      "defaultValue": "sulekha_silver",
      "label": null,
      "name": "silver_schema",
      "options": {
       "widgetType": "text",
       "autoCreated": null,
       "validationRegex": null
      }
     }
    },
    "table": {
     "currentValue": "customer_profile",
     "nuid": "58e91367-6071-4ff2-8497-0ea2d1c74e1d",
     "typedWidgetInfo": {
      "autoCreated": false,
      "defaultValue": "transaction",
      "label": null,
      "name": "table",
      "options": {
       "widgetDisplayType": "Text",
       "validationRegex": null
      },
      "parameterDataType": "String"
     },
     "widgetInfo": {
      "widgetType": "text",
      "defaultValue": "transaction",
      "label": null,
      "name": "table",
      "options": {
       "widgetType": "text",
       "autoCreated": null,
       "validationRegex": null
      }
     }
    }
   }
  },
  "language_info": {
   "name": "python"
  }
 },
 "nbformat": 4,
 "nbformat_minor": 0
}
